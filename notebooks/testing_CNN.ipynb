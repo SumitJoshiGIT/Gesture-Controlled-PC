{
 "cells": [
  {
   "cell_type": "code",
   "execution_count": 1,
   "metadata": {},
   "outputs": [],
   "source": [
    "from tensorflow.keras.models import load_model\n",
    "\n",
    "model=load_model('../models/Model11_28_22_13.h5')"
   ]
  },
  {
   "cell_type": "code",
   "execution_count": 2,
   "metadata": {},
   "outputs": [
    {
     "name": "stdout",
     "output_type": "stream",
     "text": [
      "           Gesture Image Path\n",
      "0           cursor      1.png\n",
      "1           cursor      2.png\n",
      "2           cursor      3.png\n",
      "3           cursor      4.png\n",
      "4           cursor      5.png\n",
      "...            ...        ...\n",
      "6052  double_click   3051.png\n",
      "6053  double_click   3052.png\n",
      "6054  double_click   3053.png\n",
      "6055  double_click   3054.png\n",
      "6056  double_click   3055.png\n",
      "\n",
      "[6057 rows x 2 columns]\n"
     ]
    }
   ],
   "source": [
    "import pandas as pd\n",
    "data=pd.read_csv('../data/processed/processed.csv')\n",
    "cols=data.columns[1:]\n",
    "print(data)"
   ]
  },
  {
   "cell_type": "code",
   "execution_count": 3,
   "metadata": {},
   "outputs": [
    {
     "data": {
      "text/html": [
       "<div>\n",
       "<style scoped>\n",
       "    .dataframe tbody tr th:only-of-type {\n",
       "        vertical-align: middle;\n",
       "    }\n",
       "\n",
       "    .dataframe tbody tr th {\n",
       "        vertical-align: top;\n",
       "    }\n",
       "\n",
       "    .dataframe thead th {\n",
       "        text-align: right;\n",
       "    }\n",
       "</style>\n",
       "<table border=\"1\" class=\"dataframe\">\n",
       "  <thead>\n",
       "    <tr style=\"text-align: right;\">\n",
       "      <th></th>\n",
       "      <th>Gesture</th>\n",
       "      <th>Image Path</th>\n",
       "    </tr>\n",
       "  </thead>\n",
       "  <tbody>\n",
       "    <tr>\n",
       "      <th>0</th>\n",
       "      <td>cursor</td>\n",
       "      <td>1.png</td>\n",
       "    </tr>\n",
       "    <tr>\n",
       "      <th>1</th>\n",
       "      <td>cursor</td>\n",
       "      <td>2.png</td>\n",
       "    </tr>\n",
       "    <tr>\n",
       "      <th>2</th>\n",
       "      <td>cursor</td>\n",
       "      <td>3.png</td>\n",
       "    </tr>\n",
       "    <tr>\n",
       "      <th>3</th>\n",
       "      <td>cursor</td>\n",
       "      <td>4.png</td>\n",
       "    </tr>\n",
       "    <tr>\n",
       "      <th>4</th>\n",
       "      <td>cursor</td>\n",
       "      <td>5.png</td>\n",
       "    </tr>\n",
       "  </tbody>\n",
       "</table>\n",
       "</div>"
      ],
      "text/plain": [
       "  Gesture Image Path\n",
       "0  cursor      1.png\n",
       "1  cursor      2.png\n",
       "2  cursor      3.png\n",
       "3  cursor      4.png\n",
       "4  cursor      5.png"
      ]
     },
     "execution_count": 3,
     "metadata": {},
     "output_type": "execute_result"
    }
   ],
   "source": [
    "import os\n",
    "\n",
    "valid_indices = []\n",
    "\n",
    "for idx, row in data.iterrows():\n",
    "    hand_image_path = f\"../data/processed/images/{row['Gesture']}/h{row['Image Path']}\"\n",
    "    landmark_image_path = f\"../data/processed/images/{row['Gesture']}/p{row['Image Path']}\" \n",
    "    if os.path.exists(hand_image_path) and os.path.exists(landmark_image_path):\n",
    "        valid_indices.append(idx)\n",
    "gesture_labels=data['Gesture'].unique()      \n",
    "data = data.loc[valid_indices].reset_index(drop=True)\n",
    "data.head()"
   ]
  },
  {
   "cell_type": "code",
   "execution_count": 6,
   "metadata": {},
   "outputs": [
    {
     "name": "stdout",
     "output_type": "stream",
     "text": [
      "(3011, 50, 50, 1) (3011, 50, 50, 1)\n"
     ]
    }
   ],
   "source": [
    "from sklearn.model_selection import train_test_split\n",
    "from keras.utils import to_categorical\n",
    "import numpy as np\n",
    "from tensorflow.keras.preprocessing.image import load_img, img_to_array\n",
    "\n",
    "# Define a function to load and preprocess images\n",
    "def load_and_preprocess_image(image_path, target_size):\n",
    "    image = load_img(image_path, color_mode='grayscale', target_size=target_size)\n",
    "    image = img_to_array(image)\n",
    "    image = image / 255.0\n",
    "    return image\n",
    "\n",
    "# Load images for both inputs\n",
    "hand_images = np.array([load_and_preprocess_image(f\"../data/processed/images/{gesture}/h{path}\", (50, 50)) for gesture, path in zip(data['Gesture'], data['Image Path'])])\n",
    "landmark_images = np.array([load_and_preprocess_image(f\"../data/processed/images/{gesture}/p{path}\", (50, 50)) for gesture, path in zip(data['Gesture'], data['Image Path'])])\n",
    "\n",
    "\n",
    "\n",
    "hand_images = hand_images.reshape(-1, 50, 50, 1)\n",
    "landmark_images = landmark_images.reshape(-1, 50, 50, 1)\n",
    "\n",
    "print(hand_images.shape,landmark_images.shape)\n",
    "# Function to plot images"
   ]
  },
  {
   "cell_type": "code",
   "execution_count": 12,
   "metadata": {},
   "outputs": [
    {
     "name": "stdout",
     "output_type": "stream",
     "text": [
      "1/1 [==============================] - 0s 343ms/step\n"
     ]
    },
    {
     "data": {
      "text/plain": [
       "array([[1.0000000e+00, 1.2060002e-30]], dtype=float32)"
      ]
     },
     "execution_count": 12,
     "metadata": {},
     "output_type": "execute_result"
    }
   ],
   "source": [
    "model.predict([np.array([hand_images[0],]),np.array([landmark_images[0],])])"
   ]
  }
 ],
 "metadata": {
  "kernelspec": {
   "display_name": "Python 3",
   "language": "python",
   "name": "python3"
  },
  "language_info": {
   "codemirror_mode": {
    "name": "ipython",
    "version": 3
   },
   "file_extension": ".py",
   "mimetype": "text/x-python",
   "name": "python",
   "nbconvert_exporter": "python",
   "pygments_lexer": "ipython3",
   "version": "3.9.0"
  }
 },
 "nbformat": 4,
 "nbformat_minor": 2
}
